{
 "cells": [
  {
   "cell_type": "code",
   "execution_count": 1,
   "id": "168105f1",
   "metadata": {},
   "outputs": [
    {
     "data": {
      "text/plain": [
       "[{'candidate': 'hurd', 'value': 2.08974358974359},\n",
       " {'candidate': 'elder', 'value': 2.2564102564102564},\n",
       " {'candidate': 'suarez', 'value': 2.730769230769231},\n",
       " {'candidate': 'burgum', 'value': 3.3461538461538463},\n",
       " {'candidate': 'hutchinson', 'value': 3.3846153846153846},\n",
       " {'candidate': 'scott', 'value': 5.987179487179487},\n",
       " {'candidate': 'christie', 'value': 6.256410256410256},\n",
       " {'candidate': 'ramaswamy', 'value': 6.551282051282051},\n",
       " {'candidate': 'haley', 'value': 6.576923076923077},\n",
       " {'candidate': 'pence', 'value': 7.141025641025641},\n",
       " {'candidate': 'desantis', 'value': 9.076923076923077},\n",
       " {'candidate': 'trump', 'value': 10.602564102564102}]"
      ]
     },
     "metadata": {},
     "output_type": "display_data"
    },
    {
     "name": "stdout",
     "output_type": "stream",
     "text": [
      "The 'Wisdom Of The Crowd' predicted drop out order is:\n"
     ]
    },
    {
     "data": {
      "text/plain": [
       "['hurd',\n",
       " 'elder',\n",
       " 'suarez',\n",
       " 'burgum',\n",
       " 'hutchinson',\n",
       " 'scott',\n",
       " 'christie',\n",
       " 'ramaswamy',\n",
       " 'haley',\n",
       " 'pence',\n",
       " 'desantis',\n",
       " 'trump']"
      ]
     },
     "metadata": {},
     "output_type": "display_data"
    },
    {
     "data": {
      "text/html": [
       "<div>\n",
       "<style scoped>\n",
       "    .dataframe tbody tr th:only-of-type {\n",
       "        vertical-align: middle;\n",
       "    }\n",
       "\n",
       "    .dataframe tbody tr th {\n",
       "        vertical-align: top;\n",
       "    }\n",
       "\n",
       "    .dataframe thead th {\n",
       "        text-align: right;\n",
       "    }\n",
       "</style>\n",
       "<table border=\"1\" class=\"dataframe\">\n",
       "  <thead>\n",
       "    <tr style=\"text-align: right;\">\n",
       "      <th></th>\n",
       "      <th>leaderboardAlias</th>\n",
       "      <th>prediction</th>\n",
       "    </tr>\n",
       "  </thead>\n",
       "  <tbody>\n",
       "    <tr>\n",
       "      <th>78</th>\n",
       "      <td>Wisdom of the crowd</td>\n",
       "      <td>hurd,elder,suarez,burgum,hutchinson,scott,chri...</td>\n",
       "    </tr>\n",
       "  </tbody>\n",
       "</table>\n",
       "</div>"
      ],
      "text/plain": [
       "       leaderboardAlias                                         prediction\n",
       "78  Wisdom of the crowd  hurd,elder,suarez,burgum,hutchinson,scott,chri..."
      ]
     },
     "metadata": {},
     "output_type": "display_data"
    }
   ],
   "source": [
    "import itertools\n",
    "import pandas as pd\n",
    "import statistics\n",
    "\n",
    "pd.options.mode.chained_assignment = None  # default='warn'\n",
    "    \n",
    "def calculateKendallTauDistance(listA, listB):\n",
    "    distance = 0\n",
    "    combinations = []\n",
    "    for a in listA:\n",
    "        for b in listB:\n",
    "            if a != b:\n",
    "                combinations.append(sorted([a, b]))\n",
    "    pairs = list(set(map(tuple, combinations)))\n",
    "    for x, y in pairs:\n",
    "        a = listA.index(x) - listA.index(y)\n",
    "        b = listB.index(x) - listB.index(y)\n",
    "        if a * b < 0:\n",
    "            distance += 1\n",
    "    return distance\n",
    "\n",
    "def partialScoring(dropOutOrder, playerPredictionsArray):\n",
    "    placeHolders1 = list(map(chr, range(97, 97 + len(playerPredictionsArray) - 1)))\n",
    "    placeHolders2 = list(map(chr, range(97, 97 + len(playerPredictionsArray) - 1)))\n",
    "    \n",
    "    predictionsWithPlaceHolders = []\n",
    "    dropsWithPlaceHolders = []\n",
    "    \n",
    "    for candidate in playerPredictionsArray:\n",
    "        if candidate not in dropOutOrder: # candidate hasn't dropped yet\n",
    "            predictionsWithPlaceHolders.append(placeHolders1.pop())\n",
    "        else: # candidate has dropped\n",
    "            predictionsWithPlaceHolders.append(candidate)\n",
    "                \n",
    "    for i, candidate in enumerate(playerPredictionsArray):\n",
    "        if i < len(dropOutOrder):\n",
    "            dropsWithPlaceHolders.append(dropOutOrder[i])\n",
    "        else:\n",
    "            dropsWithPlaceHolders.append(placeHolders2.pop())\n",
    "    \n",
    "    return calculateKendallTauDistance(dropsWithPlaceHolders, predictionsWithPlaceHolders);\n",
    "\n",
    "df = pd.read_csv(\"../2024/leaderboard/data/submissions2024AllColumns.csv\")\n",
    "df = df[['leaderboardAlias', 'prediction']]\n",
    "\n",
    "## Calculate 'average' drop out position of each candidate\n",
    "candidateScores = {}\n",
    "for i in df.index:\n",
    "    prediction = df['prediction'][i].split(\",\")[:-1]\n",
    "    for i, candidate in enumerate(prediction):\n",
    "        if candidate in candidateScores:\n",
    "            candidateScores[candidate] += i\n",
    "        else:\n",
    "            candidateScores[candidate] = i\n",
    "\n",
    "averagePredictions = [{'candidate': key, 'value': candidateScores[key] / len(df)} for key in candidateScores.keys()]\n",
    "averagePredictions.sort(key=lambda x: x['value'])\n",
    "\n",
    "averageOrder = [ap['candidate'] for ap in averagePredictions]\n",
    "\n",
    "display(averagePredictions)\n",
    "print(\"The 'Wisdom Of The Crowd' predicted drop out order is:\")\n",
    "display(averageOrder)\n",
    "\n",
    "# Add average answer to submissions\n",
    "predictionStr = ''\n",
    "for p in averageOrder:\n",
    "    predictionStr += p + ','\n",
    "aggregateRow = {'leaderboardAlias':['Wisdom of the crowd'], 'prediction':[predictionStr]}\n",
    "aggregateRow = pd.DataFrame(aggregateRow)\n",
    "df = df.append(aggregateRow, ignore_index=True)\n",
    "\n",
    "display(df.tail(1))"
   ]
  },
  {
   "cell_type": "code",
   "execution_count": 10,
   "id": "4c8e11ca",
   "metadata": {
    "scrolled": true
   },
   "outputs": [
    {
     "data": {
      "text/plain": [
       "13"
      ]
     },
     "execution_count": 10,
     "metadata": {},
     "output_type": "execute_result"
    }
   ],
   "source": [
    "averageOrder = ['hurd','elder','suarez','burgum','hutchinson','scott','christie','ramaswamy','haley','pence','desantis','trump']\n",
    "dropOutOrder = ['suarez', 'hurd', 'elder','pence','scott','burgum','christie','ramaswamy','hutchinson','desantis']\n",
    "\n",
    "partialScoring(dropOutOrder, averageOrder)"
   ]
  },
  {
   "cell_type": "code",
   "execution_count": 11,
   "id": "298668f6",
   "metadata": {},
   "outputs": [
    {
     "data": {
      "text/html": [
       "<div>\n",
       "<style scoped>\n",
       "    .dataframe tbody tr th:only-of-type {\n",
       "        vertical-align: middle;\n",
       "    }\n",
       "\n",
       "    .dataframe tbody tr th {\n",
       "        vertical-align: top;\n",
       "    }\n",
       "\n",
       "    .dataframe thead th {\n",
       "        text-align: right;\n",
       "    }\n",
       "</style>\n",
       "<table border=\"1\" class=\"dataframe\">\n",
       "  <thead>\n",
       "    <tr style=\"text-align: right;\">\n",
       "      <th></th>\n",
       "      <th>leaderboardAlias</th>\n",
       "      <th>prediction</th>\n",
       "      <th>round_1_score</th>\n",
       "      <th>round_2_score</th>\n",
       "      <th>round_3_score</th>\n",
       "      <th>round_4_score</th>\n",
       "      <th>round_5_score</th>\n",
       "      <th>round_6_score</th>\n",
       "      <th>round_7_score</th>\n",
       "      <th>round_8_score</th>\n",
       "      <th>...</th>\n",
       "      <th>round_1_rank</th>\n",
       "      <th>round_2_rank</th>\n",
       "      <th>round_3_rank</th>\n",
       "      <th>round_4_rank</th>\n",
       "      <th>round_5_rank</th>\n",
       "      <th>round_6_rank</th>\n",
       "      <th>round_7_rank</th>\n",
       "      <th>round_8_rank</th>\n",
       "      <th>round_9_rank</th>\n",
       "      <th>round_10_rank</th>\n",
       "    </tr>\n",
       "  </thead>\n",
       "  <tbody>\n",
       "    <tr>\n",
       "      <th>78</th>\n",
       "      <td>Wisdom of the crowd</td>\n",
       "      <td>hurd,elder,suarez,burgum,hutchinson,scott,chri...</td>\n",
       "      <td>2</td>\n",
       "      <td>2</td>\n",
       "      <td>2</td>\n",
       "      <td>8</td>\n",
       "      <td>10</td>\n",
       "      <td>10</td>\n",
       "      <td>11</td>\n",
       "      <td>12</td>\n",
       "      <td>...</td>\n",
       "      <td>34.0</td>\n",
       "      <td>15.0</td>\n",
       "      <td>10.0</td>\n",
       "      <td>28.0</td>\n",
       "      <td>20.0</td>\n",
       "      <td>12.0</td>\n",
       "      <td>9.0</td>\n",
       "      <td>6.0</td>\n",
       "      <td>6.0</td>\n",
       "      <td>6.0</td>\n",
       "    </tr>\n",
       "  </tbody>\n",
       "</table>\n",
       "<p>1 rows × 24 columns</p>\n",
       "</div>"
      ],
      "text/plain": [
       "       leaderboardAlias                                         prediction  \\\n",
       "78  Wisdom of the crowd  hurd,elder,suarez,burgum,hutchinson,scott,chri...   \n",
       "\n",
       "    round_1_score  round_2_score  round_3_score  round_4_score  round_5_score  \\\n",
       "78              2              2              2              8             10   \n",
       "\n",
       "    round_6_score  round_7_score  round_8_score  ...  round_1_rank  \\\n",
       "78             10             11             12  ...          34.0   \n",
       "\n",
       "    round_2_rank  round_3_rank  round_4_rank  round_5_rank  round_6_rank  \\\n",
       "78          15.0          10.0          28.0          20.0          12.0   \n",
       "\n",
       "    round_7_rank  round_8_rank  round_9_rank  round_10_rank  \n",
       "78           9.0           6.0           6.0            6.0  \n",
       "\n",
       "[1 rows x 24 columns]"
      ]
     },
     "metadata": {},
     "output_type": "display_data"
    }
   ],
   "source": [
    "# create a column for every previous and current round, so we can track score over time\n",
    "for i in range(0, len(dropOutOrder)):\n",
    "    df['round_' + str(i+1) + '_score'] = 0\n",
    "    \n",
    "# create a column for most recent round's score\n",
    "df['kendallDistance'] = 0\n",
    "    \n",
    "# calc kendall distances for every previous round and the current round\n",
    "for i in df.index:\n",
    "    prediction = df['prediction'][i].split(\",\")[:-1]\n",
    "    for round in range(0, len(dropOutOrder)):\n",
    "        df['round_' + str(round+1) + '_score'][i] = partialScoring(dropOutOrder[:round+1], prediction)\n",
    "    df['kendallDistance'][i] = partialScoring(dropOutOrder, prediction)\n",
    "    \n",
    "# for every distance column, create a rank column\n",
    "df['rank'] = df['kendallDistance'].rank(method='min')\n",
    "\n",
    "for i in range(0, len(dropOutOrder)):\n",
    "    df['round_' + str(i+1) + '_rank'] = df['round_' + str(i+1) + '_score'].rank(method='min')\n",
    "\n",
    "display(df.tail(1))"
   ]
  },
  {
   "cell_type": "code",
   "execution_count": 14,
   "id": "90ca10b3",
   "metadata": {},
   "outputs": [],
   "source": [
    "df.to_csv(\"../2024/leaderboard/data/submissions2024.csv\", index=False)"
   ]
  },
  {
   "cell_type": "code",
   "execution_count": 18,
   "id": "beb8ae65",
   "metadata": {},
   "outputs": [
    {
     "data": {
      "text/plain": [
       "42.30769230769231"
      ]
     },
     "execution_count": 18,
     "metadata": {},
     "output_type": "execute_result"
    }
   ],
   "source": [
    "33 / (len(df) - 1) * 100"
   ]
  },
  {
   "cell_type": "code",
   "execution_count": 19,
   "id": "798e71f1",
   "metadata": {},
   "outputs": [
    {
     "data": {
      "text/plain": [
       "10.256410256410255"
      ]
     },
     "execution_count": 19,
     "metadata": {},
     "output_type": "execute_result"
    }
   ],
   "source": [
    "8 / (len(df) - 1) * 100"
   ]
  },
  {
   "cell_type": "code",
   "execution_count": null,
   "id": "5c19d3ce",
   "metadata": {},
   "outputs": [],
   "source": []
  }
 ],
 "metadata": {
  "kernelspec": {
   "display_name": "Python 3",
   "language": "python",
   "name": "python3"
  },
  "language_info": {
   "codemirror_mode": {
    "name": "ipython",
    "version": 3
   },
   "file_extension": ".py",
   "mimetype": "text/x-python",
   "name": "python",
   "nbconvert_exporter": "python",
   "pygments_lexer": "ipython3",
   "version": "3.8.8"
  }
 },
 "nbformat": 4,
 "nbformat_minor": 5
}
