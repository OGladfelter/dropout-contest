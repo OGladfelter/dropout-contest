{
 "cells": [
  {
   "cell_type": "code",
   "execution_count": 205,
   "id": "f531c857",
   "metadata": {},
   "outputs": [
    {
     "data": {
      "text/html": [
       "<div>\n",
       "<style scoped>\n",
       "    .dataframe tbody tr th:only-of-type {\n",
       "        vertical-align: middle;\n",
       "    }\n",
       "\n",
       "    .dataframe tbody tr th {\n",
       "        vertical-align: top;\n",
       "    }\n",
       "\n",
       "    .dataframe thead th {\n",
       "        text-align: right;\n",
       "    }\n",
       "</style>\n",
       "<table border=\"1\" class=\"dataframe\">\n",
       "  <thead>\n",
       "    <tr style=\"text-align: right;\">\n",
       "      <th></th>\n",
       "      <th>leaderboardAlias</th>\n",
       "      <th>prediction</th>\n",
       "    </tr>\n",
       "  </thead>\n",
       "  <tbody>\n",
       "    <tr>\n",
       "      <th>49</th>\n",
       "      <td>Wisdom of the crowd</td>\n",
       "      <td>hurd,elder,suarez,hutchinson,burgum,christie,s...</td>\n",
       "    </tr>\n",
       "  </tbody>\n",
       "</table>\n",
       "</div>"
      ],
      "text/plain": [
       "       leaderboardAlias                                         prediction\n",
       "49  Wisdom of the crowd  hurd,elder,suarez,hutchinson,burgum,christie,s..."
      ]
     },
     "metadata": {},
     "output_type": "display_data"
    }
   ],
   "source": [
    "import itertools\n",
    "import pandas as pd\n",
    "import statistics\n",
    "\n",
    "pd.options.mode.chained_assignment = None  # default='warn'\n",
    "    \n",
    "def calculateKendallTauDistance(listA, listB):\n",
    "    distance = 0\n",
    "    combinations = []\n",
    "    for a in listA:\n",
    "        for b in listB:\n",
    "            if a != b:\n",
    "                combinations.append(sorted([a, b]))\n",
    "    pairs = list(set(map(tuple, combinations)))\n",
    "    for x, y in pairs:\n",
    "        a = listA.index(x) - listA.index(y)\n",
    "        b = listB.index(x) - listB.index(y)\n",
    "        if a * b < 0:\n",
    "            distance += 1\n",
    "    return distance\n",
    "\n",
    "def partialScoring(dropOutOrder, playerPredictionsArray):\n",
    "    placeHolders1 = list(map(chr, range(97, 97 + len(playerPredictionsArray) - 1)))\n",
    "    placeHolders2 = list(map(chr, range(97, 97 + len(playerPredictionsArray) - 1)))\n",
    "    \n",
    "    predictionsWithPlaceHolders = []\n",
    "    dropsWithPlaceHolders = []\n",
    "    \n",
    "    for candidate in playerPredictionsArray:\n",
    "        if candidate not in dropOutOrder: # candidate hasn't dropped yet\n",
    "            predictionsWithPlaceHolders.append(placeHolders1.pop())\n",
    "        else: # candidate has dropped\n",
    "            predictionsWithPlaceHolders.append(candidate)\n",
    "                \n",
    "    for i, candidate in enumerate(playerPredictionsArray):\n",
    "        if i < len(dropOutOrder):\n",
    "            dropsWithPlaceHolders.append(dropOutOrder[i])\n",
    "        else:\n",
    "            dropsWithPlaceHolders.append(placeHolders2.pop())\n",
    "    \n",
    "    return calculateKendallTauDistance(dropsWithPlaceHolders, predictionsWithPlaceHolders);\n",
    "\n",
    "df = pd.read_csv(\"../2024/leaderboard/data/submissions2024.csv\")\n",
    "df = df[['leaderboardAlias', 'prediction']]\n",
    "\n",
    "display(df.tail(1))"
   ]
  },
  {
   "cell_type": "code",
   "execution_count": 206,
   "id": "2b0bcbef",
   "metadata": {
    "scrolled": true
   },
   "outputs": [
    {
     "data": {
      "text/plain": [
       "10"
      ]
     },
     "execution_count": 206,
     "metadata": {},
     "output_type": "execute_result"
    }
   ],
   "source": [
    "averageOrder = ['hurd','elder','suarez','hutchinson','burgum','christie','scott','haley','ramaswamy','pence','desantis','trump']\n",
    "dropOutOrder = ['desantis', 'hurd', 'elder']\n",
    "\n",
    "partialScoring(dropOutOrder, averageOrder)"
   ]
  },
  {
   "cell_type": "code",
   "execution_count": 207,
   "id": "2a81efab",
   "metadata": {},
   "outputs": [],
   "source": [
    "# create a column for every previous and current round, so we can track score over time\n",
    "for i in range(0, len(averageOrder)):\n",
    "    df['round_' + str(i+1) + '_score'] = 0\n",
    "    \n",
    "# create a column for most recent round's score\n",
    "df['kendallDistance'] = 0\n",
    "    \n",
    "# calc kendall distances for every previous round and the current round\n",
    "for i in df.index:\n",
    "    prediction = df['prediction'][i].split(\",\")[:-1]\n",
    "    for round in range(0, len(averageOrder)):\n",
    "        df['round_' + str(round+1) + '_score'][i] = partialScoring(averageOrder[:round+1], prediction)\n",
    "    df['kendallDistance'][i] = partialScoring(averageOrder, prediction)\n",
    "    \n",
    "# for every distance column, create a rank column\n",
    "df['rank'] = df['kendallDistance'].rank(method='min')\n",
    "\n",
    "for i in range(0, len(averageOrder)):\n",
    "    df['round_' + str(i+1) + '_rank'] = df['round_' + str(i+1) + '_score'].rank(method='min')"
   ]
  },
  {
   "cell_type": "code",
   "execution_count": 210,
   "id": "f6170da6",
   "metadata": {},
   "outputs": [],
   "source": [
    "df.to_csv(\"../2024/leaderboard/data/submissions2024.csv\", index=False)"
   ]
  }
 ],
 "metadata": {
  "kernelspec": {
   "display_name": "Python 3",
   "language": "python",
   "name": "python3"
  },
  "language_info": {
   "codemirror_mode": {
    "name": "ipython",
    "version": 3
   },
   "file_extension": ".py",
   "mimetype": "text/x-python",
   "name": "python",
   "nbconvert_exporter": "python",
   "pygments_lexer": "ipython3",
   "version": "3.8.8"
  }
 },
 "nbformat": 4,
 "nbformat_minor": 5
}
