{
 "cells": [
  {
   "cell_type": "code",
   "execution_count": 8,
   "id": "4f9d3be1",
   "metadata": {},
   "outputs": [],
   "source": [
    "import pandas as pd\n",
    "\n",
    "df = pd.read_csv(\"../2024/leaderboard/data/submissions2024.csv\")\n",
    "df = df[['leaderboardAlias', 'prediction']]"
   ]
  },
  {
   "cell_type": "markdown",
   "id": "e705d2d7",
   "metadata": {},
   "source": [
    "## Calculate 'average' drop out position of each candidate"
   ]
  },
  {
   "cell_type": "code",
   "execution_count": 2,
   "id": "b181082d",
   "metadata": {},
   "outputs": [
    {
     "data": {
      "text/plain": [
       "[{'candidate': 'hurd', 'value': 2.0816326530612246},\n",
       " {'candidate': 'elder', 'value': 2.142857142857143},\n",
       " {'candidate': 'suarez', 'value': 2.7755102040816326},\n",
       " {'candidate': 'hutchinson', 'value': 3.326530612244898},\n",
       " {'candidate': 'burgum', 'value': 3.5918367346938775},\n",
       " {'candidate': 'christie', 'value': 5.8979591836734695},\n",
       " {'candidate': 'scott', 'value': 6.122448979591836},\n",
       " {'candidate': 'haley', 'value': 6.63265306122449},\n",
       " {'candidate': 'ramaswamy', 'value': 6.673469387755102},\n",
       " {'candidate': 'pence', 'value': 6.857142857142857},\n",
       " {'candidate': 'desantis', 'value': 9.224489795918368},\n",
       " {'candidate': 'trump', 'value': 10.673469387755102}]"
      ]
     },
     "metadata": {},
     "output_type": "display_data"
    },
    {
     "name": "stdout",
     "output_type": "stream",
     "text": [
      "The 'Wisdom Of The Crowd' predicted drop out order is:\n"
     ]
    },
    {
     "data": {
      "text/plain": [
       "['hurd',\n",
       " 'elder',\n",
       " 'suarez',\n",
       " 'hutchinson',\n",
       " 'burgum',\n",
       " 'christie',\n",
       " 'scott',\n",
       " 'haley',\n",
       " 'ramaswamy',\n",
       " 'pence',\n",
       " 'desantis',\n",
       " 'trump']"
      ]
     },
     "metadata": {},
     "output_type": "display_data"
    }
   ],
   "source": [
    "candidateScores = {}\n",
    "for i in df.index:\n",
    "    prediction = df['prediction'][i].split(\",\")[:-1]\n",
    "    for i, candidate in enumerate(prediction):\n",
    "        if candidate in candidateScores:\n",
    "            candidateScores[candidate] += i\n",
    "        else:\n",
    "            candidateScores[candidate] = i\n",
    "\n",
    "averagePredictions = [{'candidate': key, 'value': candidateScores[key] / len(df)} for key in candidateScores.keys()]\n",
    "averagePredictions.sort(key=lambda x: x['value'])\n",
    "\n",
    "averageOrder = [ap['candidate'] for ap in averagePredictions]\n",
    "\n",
    "display(averagePredictions)\n",
    "print(\"The 'Wisdom Of The Crowd' predicted drop out order is:\")\n",
    "display(averageOrder)"
   ]
  },
  {
   "cell_type": "markdown",
   "id": "3cedd075",
   "metadata": {},
   "source": [
    "## Add average answer to submissions"
   ]
  },
  {
   "cell_type": "code",
   "execution_count": 20,
   "id": "2cc50927",
   "metadata": {},
   "outputs": [],
   "source": [
    "predictionStr = ''\n",
    "for p in averageOrder:\n",
    "    predictionStr += p + ','\n",
    "\n",
    "aggregateRow = {'leaderboardAlias':['Wisdom of the crowd'], 'prediction':[predictionStr]}\n",
    "aggregateRow = pd.DataFrame(aggregateRow)\n",
    "\n",
    "\n",
    "df = df.append(aggregateRow, ignore_index=True)\n",
    "\n",
    "df.to_csv(\"../2024/leaderboard/data/submissions2024.csv\", index=False)"
   ]
  }
 ],
 "metadata": {
  "kernelspec": {
   "display_name": "Python 3",
   "language": "python",
   "name": "python3"
  },
  "language_info": {
   "codemirror_mode": {
    "name": "ipython",
    "version": 3
   },
   "file_extension": ".py",
   "mimetype": "text/x-python",
   "name": "python",
   "nbconvert_exporter": "python",
   "pygments_lexer": "ipython3",
   "version": "3.8.8"
  }
 },
 "nbformat": 4,
 "nbformat_minor": 5
}
