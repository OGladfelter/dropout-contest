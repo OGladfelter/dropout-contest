{
 "cells": [
  {
   "cell_type": "code",
   "execution_count": null,
   "id": "7bdf9251",
   "metadata": {},
   "outputs": [],
   "source": [
    "# 2020 Democratic Primary Drop Out Predictions Scoring Formulas\n",
    "# Author: Oliver Gladfelter\n",
    "# Date: Aug 22, 2023"
   ]
  },
  {
   "cell_type": "code",
   "execution_count": 199,
   "id": "4f9d3be1",
   "metadata": {},
   "outputs": [],
   "source": [
    "import pandas as pd\n",
    "from collections import Counter\n",
    "import statistics\n",
    "pd.options.mode.chained_assignment = None  # default='warn'\n",
    "\n",
    "df = pd.read_csv(\"../2024/leaderboard/data/submissions2024.csv\")\n",
    "df = df[['leaderboardAlias', 'prediction']]\n",
    "\n",
    "# create a new dataframe with reformatted data, which will help answer some questions\n",
    "long = df.copy()\n",
    "long[[1,2,3,4,5,6,7,8,9,10,11,12,'x']] = long['prediction'].str.split(',',expand=True)\n",
    "long = long.drop(['leaderboardAlias', 'prediction', 'x'], axis=1)\n",
    "\n",
    "# another reformatted dataset\n",
    "# this reformatted data will be necessary for answering certain questions\n",
    "candidatePositions = {}\n",
    "for row in long.index:\n",
    "    for column in long.columns:\n",
    "        if long[column][row] not in candidatePositions:\n",
    "            candidatePositions[long[column][row]] = [int(column)]\n",
    "        elif long[column][row] in candidatePositions:\n",
    "            candidatePositions[long[column][row]].append(int(column))\n",
    "candidatePositions = pd.DataFrame(candidatePositions)\n",
    "\n",
    "# numParticipants\n",
    "n = len(df)"
   ]
  },
  {
   "cell_type": "markdown",
   "id": "e705d2d7",
   "metadata": {},
   "source": [
    "## Calculate 'average' drop out position of each candidate"
   ]
  },
  {
   "cell_type": "code",
   "execution_count": 2,
   "id": "b181082d",
   "metadata": {},
   "outputs": [
    {
     "data": {
      "text/plain": [
       "[{'candidate': 'hurd', 'value': 2.0816326530612246},\n",
       " {'candidate': 'elder', 'value': 2.142857142857143},\n",
       " {'candidate': 'suarez', 'value': 2.7755102040816326},\n",
       " {'candidate': 'hutchinson', 'value': 3.326530612244898},\n",
       " {'candidate': 'burgum', 'value': 3.5918367346938775},\n",
       " {'candidate': 'christie', 'value': 5.8979591836734695},\n",
       " {'candidate': 'scott', 'value': 6.122448979591836},\n",
       " {'candidate': 'haley', 'value': 6.63265306122449},\n",
       " {'candidate': 'ramaswamy', 'value': 6.673469387755102},\n",
       " {'candidate': 'pence', 'value': 6.857142857142857},\n",
       " {'candidate': 'desantis', 'value': 9.224489795918368},\n",
       " {'candidate': 'trump', 'value': 10.673469387755102}]"
      ]
     },
     "metadata": {},
     "output_type": "display_data"
    },
    {
     "name": "stdout",
     "output_type": "stream",
     "text": [
      "The 'Wisdom Of The Crowd' predicted drop out order is:\n"
     ]
    },
    {
     "data": {
      "text/plain": [
       "['hurd',\n",
       " 'elder',\n",
       " 'suarez',\n",
       " 'hutchinson',\n",
       " 'burgum',\n",
       " 'christie',\n",
       " 'scott',\n",
       " 'haley',\n",
       " 'ramaswamy',\n",
       " 'pence',\n",
       " 'desantis',\n",
       " 'trump']"
      ]
     },
     "metadata": {},
     "output_type": "display_data"
    }
   ],
   "source": [
    "candidateScores = {}\n",
    "for i in df.index:\n",
    "    prediction = df['prediction'][i].split(\",\")[:-1]\n",
    "    for i, candidate in enumerate(prediction):\n",
    "        if candidate in candidateScores:\n",
    "            candidateScores[candidate] += i\n",
    "        else:\n",
    "            candidateScores[candidate] = i\n",
    "\n",
    "averagePredictions = [{'candidate': key, 'value': candidateScores[key] / len(df)} for key in candidateScores.keys()]\n",
    "averagePredictions.sort(key=lambda x: x['value'])\n",
    "\n",
    "averageOrder = [ap['candidate'] for ap in averagePredictions]\n",
    "\n",
    "display(averagePredictions)\n",
    "print(\"The 'Wisdom Of The Crowd' predicted drop out order is:\")\n",
    "display(averageOrder)"
   ]
  },
  {
   "cell_type": "code",
   "execution_count": 20,
   "id": "2cc50927",
   "metadata": {},
   "outputs": [],
   "source": [
    "# Add average answer to submissions\n",
    "predictionStr = ''\n",
    "for p in averageOrder:\n",
    "    predictionStr += p + ','\n",
    "\n",
    "aggregateRow = {'leaderboardAlias':['Wisdom of the crowd'], 'prediction':[predictionStr]}\n",
    "aggregateRow = pd.DataFrame(aggregateRow)\n",
    "\n",
    "\n",
    "df = df.append(aggregateRow, ignore_index=True)\n",
    "\n",
    "#df.to_csv(\"../2024/leaderboard/data/submissions2024.csv\", index=False)"
   ]
  },
  {
   "cell_type": "markdown",
   "id": "d87ed54a",
   "metadata": {},
   "source": [
    "## Who are common picks for predicted first drop? Predicted winner? Etc"
   ]
  },
  {
   "cell_type": "code",
   "execution_count": 101,
   "id": "e9d614ee",
   "metadata": {},
   "outputs": [
    {
     "data": {
      "text/plain": [
       "hurd      26.0\n",
       "elder     22.0\n",
       "suarez    18.0\n",
       "Name: 1, dtype: float64"
      ]
     },
     "metadata": {},
     "output_type": "display_data"
    },
    {
     "data": {
      "text/plain": [
       "suarez    22.0\n",
       "elder     22.0\n",
       "hurd      16.0\n",
       "Name: 2, dtype: float64"
      ]
     },
     "metadata": {},
     "output_type": "display_data"
    },
    {
     "data": {
      "text/plain": [
       "hurd      20.0\n",
       "elder     18.0\n",
       "suarez    16.0\n",
       "Name: 3, dtype: float64"
      ]
     },
     "metadata": {},
     "output_type": "display_data"
    },
    {
     "data": {
      "text/plain": [
       "desantis     48.0\n",
       "ramaswamy    16.0\n",
       "trump        12.0\n",
       "Name: 11, dtype: float64"
      ]
     },
     "metadata": {},
     "output_type": "display_data"
    },
    {
     "data": {
      "text/plain": [
       "trump        82.0\n",
       "desantis     10.0\n",
       "ramaswamy     4.0\n",
       "Name: 12, dtype: float64"
      ]
     },
     "metadata": {},
     "output_type": "display_data"
    }
   ],
   "source": [
    "def perForPosition(dropPosition):\n",
    "    display(long[dropPosition].value_counts().head(3) / n * 100)\n",
    "\n",
    "perForPosition(1) # first drop\n",
    "perForPosition(2) # second drop\n",
    "perForPosition(3) # third drop\n",
    "perForPosition(11) # last drop\n",
    "perForPosition(12) # winner"
   ]
  },
  {
   "cell_type": "markdown",
   "id": "8dda5a68",
   "metadata": {},
   "source": [
    "## What percent of predictions put Hurd / Elder / Suarez in the first three drops?"
   ]
  },
  {
   "cell_type": "code",
   "execution_count": 221,
   "id": "c61d9271",
   "metadata": {},
   "outputs": [
    {
     "name": "stdout",
     "output_type": "stream",
     "text": [
      "66.0\n",
      "62.0\n",
      "62.0\n",
      "56.00000000000001\n",
      "18.0\n"
     ]
    }
   ],
   "source": [
    "# predicts hurd or elder or suarez as first drop\n",
    "print(len(long[(long[1] == 'hurd') | (long[1] == 'elder') | (long[1] == 'suarez')]) / n * 100)\n",
    "\n",
    "# predicts various candidates as first three drops\n",
    "print(len(candidatePositions[candidatePositions['hurd'] <= 3]) / n * 100)\n",
    "print(len(candidatePositions[candidatePositions['elder'] <= 3]) / n * 100)\n",
    "print(len(candidatePositions[candidatePositions['suarez'] <= 3]) / n * 100)\n",
    "\n",
    "# how about all 3?\n",
    "print(len(candidatePositions[((candidatePositions['hurd'] <= 3) & (candidatePositions['elder'] <= 3) & (candidatePositions['suarez'] <= 3))]) / n * 100)"
   ]
  },
  {
   "cell_type": "code",
   "execution_count": 197,
   "id": "ed8a2ed0",
   "metadata": {},
   "outputs": [
    {
     "name": "stdout",
     "output_type": "stream",
     "text": [
      "% of respondents who think candidate will be one of the first three to drop out\n",
      " \n",
      "ramaswamy: 16.0\n",
      "hurd: 62.0\n",
      "hutchinson: 38.0\n",
      "elder: 62.0\n",
      "pence: 2.0\n",
      "christie: 14.000000000000002\n",
      "burgum: 36.0\n",
      "scott: 10.0\n",
      "haley: 4.0\n",
      "suarez: 56.00000000000001\n",
      "trump: 0.0\n",
      "desantis: 0.0\n"
     ]
    }
   ],
   "source": [
    "print(\"% of respondents who think candidate will be one of the first three to drop out\")\n",
    "print(\" \")\n",
    "\n",
    "for candidate in reformattedData.columns:\n",
    "    print(candidate + \": \" + str(len(reformattedData[reformattedData[candidate] <= 3]) / n * 100))"
   ]
  },
  {
   "cell_type": "markdown",
   "id": "e7cb2cb0",
   "metadata": {},
   "source": [
    "## Where do we see the most/least disagreement over candidates?"
   ]
  },
  {
   "cell_type": "code",
   "execution_count": 219,
   "id": "41bfde50",
   "metadata": {},
   "outputs": [
    {
     "data": {
      "text/html": [
       "<div>\n",
       "<style scoped>\n",
       "    .dataframe tbody tr th:only-of-type {\n",
       "        vertical-align: middle;\n",
       "    }\n",
       "\n",
       "    .dataframe tbody tr th {\n",
       "        vertical-align: top;\n",
       "    }\n",
       "\n",
       "    .dataframe thead th {\n",
       "        text-align: right;\n",
       "    }\n",
       "</style>\n",
       "<table border=\"1\" class=\"dataframe\">\n",
       "  <thead>\n",
       "    <tr style=\"text-align: right;\">\n",
       "      <th></th>\n",
       "      <th>candidate</th>\n",
       "      <th>stdv</th>\n",
       "    </tr>\n",
       "  </thead>\n",
       "  <tbody>\n",
       "    <tr>\n",
       "      <th>10</th>\n",
       "      <td>trump</td>\n",
       "      <td>0.957036</td>\n",
       "    </tr>\n",
       "    <tr>\n",
       "      <th>11</th>\n",
       "      <td>desantis</td>\n",
       "      <td>1.519398</td>\n",
       "    </tr>\n",
       "    <tr>\n",
       "      <th>1</th>\n",
       "      <td>hurd</td>\n",
       "      <td>1.725676</td>\n",
       "    </tr>\n",
       "    <tr>\n",
       "      <th>4</th>\n",
       "      <td>pence</td>\n",
       "      <td>1.897904</td>\n",
       "    </tr>\n",
       "    <tr>\n",
       "      <th>3</th>\n",
       "      <td>elder</td>\n",
       "      <td>1.944537</td>\n",
       "    </tr>\n",
       "    <tr>\n",
       "      <th>8</th>\n",
       "      <td>haley</td>\n",
       "      <td>2.057936</td>\n",
       "    </tr>\n",
       "    <tr>\n",
       "      <th>2</th>\n",
       "      <td>hutchinson</td>\n",
       "      <td>2.161254</td>\n",
       "    </tr>\n",
       "    <tr>\n",
       "      <th>9</th>\n",
       "      <td>suarez</td>\n",
       "      <td>2.420659</td>\n",
       "    </tr>\n",
       "    <tr>\n",
       "      <th>7</th>\n",
       "      <td>scott</td>\n",
       "      <td>2.504201</td>\n",
       "    </tr>\n",
       "    <tr>\n",
       "      <th>6</th>\n",
       "      <td>burgum</td>\n",
       "      <td>2.595129</td>\n",
       "    </tr>\n",
       "    <tr>\n",
       "      <th>5</th>\n",
       "      <td>christie</td>\n",
       "      <td>2.685106</td>\n",
       "    </tr>\n",
       "    <tr>\n",
       "      <th>0</th>\n",
       "      <td>ramaswamy</td>\n",
       "      <td>3.208725</td>\n",
       "    </tr>\n",
       "  </tbody>\n",
       "</table>\n",
       "</div>"
      ],
      "text/plain": [
       "     candidate      stdv\n",
       "10       trump  0.957036\n",
       "11    desantis  1.519398\n",
       "1         hurd  1.725676\n",
       "4        pence  1.897904\n",
       "3        elder  1.944537\n",
       "8        haley  2.057936\n",
       "2   hutchinson  2.161254\n",
       "9       suarez  2.420659\n",
       "7        scott  2.504201\n",
       "6       burgum  2.595129\n",
       "5     christie  2.685106\n",
       "0    ramaswamy  3.208725"
      ]
     },
     "metadata": {},
     "output_type": "display_data"
    }
   ],
   "source": [
    "stdvs = []\n",
    "for candidate in reformattedData.columns:\n",
    "    stdvs.append(statistics.stdev(reformattedData[candidate]))\n",
    "    \n",
    "stdvs = pd.DataFrame({'candidate':reformattedData.columns, 'stdv':stdvs})\n",
    "\n",
    "# most agreement over Trump (going far), most disagreement on Ramaswamy (he's been positioned all over the place)\n",
    "# also worth mentioning DeSantis, Hurd, Christie\n",
    "display(stdvs.sort_values('stdv'))"
   ]
  }
 ],
 "metadata": {
  "kernelspec": {
   "display_name": "Python 3",
   "language": "python",
   "name": "python3"
  },
  "language_info": {
   "codemirror_mode": {
    "name": "ipython",
    "version": 3
   },
   "file_extension": ".py",
   "mimetype": "text/x-python",
   "name": "python",
   "nbconvert_exporter": "python",
   "pygments_lexer": "ipython3",
   "version": "3.8.8"
  }
 },
 "nbformat": 4,
 "nbformat_minor": 5
}
