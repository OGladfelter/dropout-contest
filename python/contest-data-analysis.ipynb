{
 "cells": [
  {
   "cell_type": "code",
   "execution_count": 1,
   "id": "c717bac4",
   "metadata": {},
   "outputs": [],
   "source": [
    "# Author: Oliver Gladfelter\n",
    "# Date: Aug 22, 2023"
   ]
  },
  {
   "cell_type": "code",
   "execution_count": 1,
   "id": "4f9d3be1",
   "metadata": {},
   "outputs": [],
   "source": [
    "import pandas as pd\n",
    "from collections import Counter\n",
    "import statistics\n",
    "pd.options.mode.chained_assignment = None  # default='warn'\n",
    "\n",
    "df = pd.read_csv(\"../2024/leaderboard/data/submissions2024.csv\")\n",
    "df = df[['leaderboardAlias', 'prediction']]\n",
    "\n",
    "# create a new dataframe with reformatted data, which will help answer some questions\n",
    "long = df.copy()\n",
    "long[[1,2,3,4,5,6,7,8,9,10,11,12,'x']] = long['prediction'].str.split(',',expand=True)\n",
    "long = long.drop(['leaderboardAlias', 'prediction', 'x'], axis=1)\n",
    "\n",
    "# another reformatted dataset\n",
    "# this reformatted data will be necessary for answering certain questions\n",
    "candidatePositions = {}\n",
    "for row in long.index:\n",
    "    for column in long.columns:\n",
    "        if long[column][row] not in candidatePositions:\n",
    "            candidatePositions[long[column][row]] = [int(column)]\n",
    "        elif long[column][row] in candidatePositions:\n",
    "            candidatePositions[long[column][row]].append(int(column))\n",
    "candidatePositions = pd.DataFrame(candidatePositions)\n",
    "\n",
    "# numParticipants\n",
    "n = len(df)"
   ]
  },
  {
   "cell_type": "markdown",
   "id": "e705d2d7",
   "metadata": {},
   "source": [
    "## Calculate 'average' drop out position of each candidate"
   ]
  },
  {
   "cell_type": "code",
   "execution_count": 2,
   "id": "b181082d",
   "metadata": {},
   "outputs": [
    {
     "data": {
      "text/plain": [
       "[{'candidate': 'hurd', 'value': 2.0632911392405062},\n",
       " {'candidate': 'elder', 'value': 2.240506329113924},\n",
       " {'candidate': 'suarez', 'value': 2.721518987341772},\n",
       " {'candidate': 'burgum', 'value': 3.3417721518987342},\n",
       " {'candidate': 'hutchinson', 'value': 3.392405063291139},\n",
       " {'candidate': 'scott', 'value': 5.974683544303797},\n",
       " {'candidate': 'christie', 'value': 6.253164556962025},\n",
       " {'candidate': 'ramaswamy', 'value': 6.556962025316456},\n",
       " {'candidate': 'haley', 'value': 6.594936708860759},\n",
       " {'candidate': 'pence', 'value': 7.1645569620253164},\n",
       " {'candidate': 'desantis', 'value': 9.08860759493671},\n",
       " {'candidate': 'trump', 'value': 10.60759493670886}]"
      ]
     },
     "metadata": {},
     "output_type": "display_data"
    },
    {
     "name": "stdout",
     "output_type": "stream",
     "text": [
      "The 'Wisdom Of The Crowd' predicted drop out order is:\n"
     ]
    },
    {
     "data": {
      "text/plain": [
       "['hurd',\n",
       " 'elder',\n",
       " 'suarez',\n",
       " 'burgum',\n",
       " 'hutchinson',\n",
       " 'scott',\n",
       " 'christie',\n",
       " 'ramaswamy',\n",
       " 'haley',\n",
       " 'pence',\n",
       " 'desantis',\n",
       " 'trump']"
      ]
     },
     "metadata": {},
     "output_type": "display_data"
    }
   ],
   "source": [
    "candidateScores = {}\n",
    "for i in df.index:\n",
    "    prediction = df['prediction'][i].split(\",\")[:-1]\n",
    "    for i, candidate in enumerate(prediction):\n",
    "        if candidate in candidateScores:\n",
    "            candidateScores[candidate] += i\n",
    "        else:\n",
    "            candidateScores[candidate] = i\n",
    "\n",
    "averagePredictions = [{'candidate': key, 'value': candidateScores[key] / len(df)} for key in candidateScores.keys()]\n",
    "averagePredictions.sort(key=lambda x: x['value'])\n",
    "\n",
    "averageOrder = [ap['candidate'] for ap in averagePredictions]\n",
    "\n",
    "display(averagePredictions)\n",
    "print(\"The 'Wisdom Of The Crowd' predicted drop out order is:\")\n",
    "display(averageOrder)"
   ]
  },
  {
   "cell_type": "markdown",
   "id": "c8dee00f",
   "metadata": {},
   "source": [
    "## Who are common picks for predicted first drop? Predicted winner? Etc"
   ]
  },
  {
   "cell_type": "code",
   "execution_count": 3,
   "id": "5c47fa39",
   "metadata": {},
   "outputs": [
    {
     "data": {
      "text/plain": [
       "suarez    24.050633\n",
       "hurd      21.518987\n",
       "elder     21.518987\n",
       "Name: 1, dtype: float64"
      ]
     },
     "metadata": {},
     "output_type": "display_data"
    },
    {
     "data": {
      "text/plain": [
       "elder     24.050633\n",
       "hurd      18.987342\n",
       "suarez    17.721519\n",
       "Name: 2, dtype: float64"
      ]
     },
     "metadata": {},
     "output_type": "display_data"
    },
    {
     "data": {
      "text/plain": [
       "hurd      24.050633\n",
       "suarez    15.189873\n",
       "elder     15.189873\n",
       "Name: 3, dtype: float64"
      ]
     },
     "metadata": {},
     "output_type": "display_data"
    },
    {
     "data": {
      "text/plain": [
       "desantis     41.772152\n",
       "ramaswamy    16.455696\n",
       "trump        12.658228\n",
       "Name: 11, dtype: float64"
      ]
     },
     "metadata": {},
     "output_type": "display_data"
    },
    {
     "data": {
      "text/plain": [
       "trump        82.278481\n",
       "desantis     10.126582\n",
       "ramaswamy     2.531646\n",
       "Name: 12, dtype: float64"
      ]
     },
     "metadata": {},
     "output_type": "display_data"
    }
   ],
   "source": [
    "def perForPosition(dropPosition):\n",
    "    display(long[dropPosition].value_counts().head(3) / n * 100)\n",
    "\n",
    "perForPosition(1) # first drop\n",
    "perForPosition(2) # second drop\n",
    "perForPosition(3) # third drop\n",
    "perForPosition(11) # last drop\n",
    "perForPosition(12) # winner"
   ]
  },
  {
   "cell_type": "markdown",
   "id": "2ffc01e1",
   "metadata": {},
   "source": [
    "## What percent of predictions put Hurd / Elder / Suarez in the first three drops?"
   ]
  },
  {
   "cell_type": "code",
   "execution_count": 4,
   "id": "70f5c695",
   "metadata": {},
   "outputs": [
    {
     "name": "stdout",
     "output_type": "stream",
     "text": [
      "67.08860759493672\n",
      "64.55696202531645\n",
      "60.75949367088608\n",
      "56.9620253164557\n",
      "20.253164556962027\n"
     ]
    }
   ],
   "source": [
    "# predicts hurd or elder or suarez as first drop\n",
    "print(len(long[(long[1] == 'hurd') | (long[1] == 'elder') | (long[1] == 'suarez')]) / n * 100)\n",
    "\n",
    "# predicts various candidates as first three drops\n",
    "print(len(candidatePositions[candidatePositions['hurd'] <= 3]) / n * 100)\n",
    "print(len(candidatePositions[candidatePositions['elder'] <= 3]) / n * 100)\n",
    "print(len(candidatePositions[candidatePositions['suarez'] <= 3]) / n * 100)\n",
    "\n",
    "# how about all 3?\n",
    "print(len(candidatePositions[((candidatePositions['hurd'] <= 3) & (candidatePositions['elder'] <= 3) & (candidatePositions['suarez'] <= 3))]) / n * 100)"
   ]
  },
  {
   "cell_type": "code",
   "execution_count": 5,
   "id": "e277752c",
   "metadata": {},
   "outputs": [
    {
     "name": "stdout",
     "output_type": "stream",
     "text": [
      "% of respondents who think candidate will be one of the first three to drop out\n",
      " \n",
      "ramaswamy: 15.18987341772152\n",
      "hurd: 64.55696202531645\n",
      "hutchinson: 34.177215189873415\n",
      "elder: 60.75949367088608\n",
      "pence: 1.2658227848101267\n",
      "christie: 11.39240506329114\n",
      "burgum: 39.24050632911392\n",
      "scott: 11.39240506329114\n",
      "haley: 3.79746835443038\n",
      "suarez: 56.9620253164557\n",
      "trump: 1.2658227848101267\n",
      "desantis: 0.0\n"
     ]
    }
   ],
   "source": [
    "print(\"% of respondents who think candidate will be one of the first three to drop out\")\n",
    "print(\" \")\n",
    "\n",
    "for candidate in candidatePositions.columns:\n",
    "    print(candidate + \": \" + str(len(candidatePositions[candidatePositions[candidate] <= 3]) / n * 100))"
   ]
  },
  {
   "cell_type": "markdown",
   "id": "7b7bfdfb",
   "metadata": {},
   "source": [
    "## Where do we see the most/least disagreement over candidates?"
   ]
  },
  {
   "cell_type": "code",
   "execution_count": 6,
   "id": "d277ee39",
   "metadata": {},
   "outputs": [
    {
     "data": {
      "text/html": [
       "<div>\n",
       "<style scoped>\n",
       "    .dataframe tbody tr th:only-of-type {\n",
       "        vertical-align: middle;\n",
       "    }\n",
       "\n",
       "    .dataframe tbody tr th {\n",
       "        vertical-align: top;\n",
       "    }\n",
       "\n",
       "    .dataframe thead th {\n",
       "        text-align: right;\n",
       "    }\n",
       "</style>\n",
       "<table border=\"1\" class=\"dataframe\">\n",
       "  <thead>\n",
       "    <tr style=\"text-align: right;\">\n",
       "      <th></th>\n",
       "      <th>candidate</th>\n",
       "      <th>stdv</th>\n",
       "    </tr>\n",
       "  </thead>\n",
       "  <tbody>\n",
       "    <tr>\n",
       "      <th>10</th>\n",
       "      <td>trump</td>\n",
       "      <td>1.444865</td>\n",
       "    </tr>\n",
       "    <tr>\n",
       "      <th>11</th>\n",
       "      <td>desantis</td>\n",
       "      <td>1.642308</td>\n",
       "    </tr>\n",
       "    <tr>\n",
       "      <th>1</th>\n",
       "      <td>hurd</td>\n",
       "      <td>1.674406</td>\n",
       "    </tr>\n",
       "    <tr>\n",
       "      <th>4</th>\n",
       "      <td>pence</td>\n",
       "      <td>1.877194</td>\n",
       "    </tr>\n",
       "    <tr>\n",
       "      <th>2</th>\n",
       "      <td>hutchinson</td>\n",
       "      <td>1.996264</td>\n",
       "    </tr>\n",
       "    <tr>\n",
       "      <th>3</th>\n",
       "      <td>elder</td>\n",
       "      <td>2.070645</td>\n",
       "    </tr>\n",
       "    <tr>\n",
       "      <th>8</th>\n",
       "      <td>haley</td>\n",
       "      <td>2.139488</td>\n",
       "    </tr>\n",
       "    <tr>\n",
       "      <th>6</th>\n",
       "      <td>burgum</td>\n",
       "      <td>2.401314</td>\n",
       "    </tr>\n",
       "    <tr>\n",
       "      <th>7</th>\n",
       "      <td>scott</td>\n",
       "      <td>2.586824</td>\n",
       "    </tr>\n",
       "    <tr>\n",
       "      <th>5</th>\n",
       "      <td>christie</td>\n",
       "      <td>2.599153</td>\n",
       "    </tr>\n",
       "    <tr>\n",
       "      <th>9</th>\n",
       "      <td>suarez</td>\n",
       "      <td>2.606386</td>\n",
       "    </tr>\n",
       "    <tr>\n",
       "      <th>0</th>\n",
       "      <td>ramaswamy</td>\n",
       "      <td>3.112204</td>\n",
       "    </tr>\n",
       "  </tbody>\n",
       "</table>\n",
       "</div>"
      ],
      "text/plain": [
       "     candidate      stdv\n",
       "10       trump  1.444865\n",
       "11    desantis  1.642308\n",
       "1         hurd  1.674406\n",
       "4        pence  1.877194\n",
       "2   hutchinson  1.996264\n",
       "3        elder  2.070645\n",
       "8        haley  2.139488\n",
       "6       burgum  2.401314\n",
       "7        scott  2.586824\n",
       "5     christie  2.599153\n",
       "9       suarez  2.606386\n",
       "0    ramaswamy  3.112204"
      ]
     },
     "metadata": {},
     "output_type": "display_data"
    }
   ],
   "source": [
    "stdvs = []\n",
    "for candidate in candidatePositions.columns:\n",
    "    stdvs.append(statistics.stdev(candidatePositions[candidate]))\n",
    "    \n",
    "stdvs = pd.DataFrame({'candidate':candidatePositions.columns, 'stdv':stdvs})\n",
    "\n",
    "# most agreement over Trump (going far), most disagreement on Ramaswamy (he's been positioned all over the place)\n",
    "display(stdvs.sort_values('stdv'))"
   ]
  },
  {
   "cell_type": "markdown",
   "id": "5b9d3752",
   "metadata": {},
   "source": [
    "## Who do we expect to drop next?"
   ]
  },
  {
   "cell_type": "code",
   "execution_count": 4,
   "id": "e1183728",
   "metadata": {},
   "outputs": [
    {
     "data": {
      "text/plain": [
       "Counter({'hutchinson': 66, 'haley': 9, 'desantis': 2, 'trump': 2})"
      ]
     },
     "metadata": {},
     "output_type": "display_data"
    },
    {
     "name": "stdout",
     "output_type": "stream",
     "text": [
      "0.8354430379746836\n",
      "0.02531645569620253\n",
      "0.11392405063291139\n",
      "0.02531645569620253\n",
      " \n"
     ]
    },
    {
     "data": {
      "text/plain": [
       "Counter({'haley': 69, 'desantis': 8, 'trump': 2})"
      ]
     },
     "metadata": {},
     "output_type": "display_data"
    },
    {
     "name": "stdout",
     "output_type": "stream",
     "text": [
      "0.10126582278481013\n",
      "0.8734177215189873\n",
      "0.02531645569620253\n"
     ]
    }
   ],
   "source": [
    "from collections import Counter\n",
    "\n",
    "\n",
    "# before Asa dropped\n",
    "dropOutOrder = ['suarez', 'hurd', 'elder','pence','scott', 'burgum', 'christie', 'ramaswamy']\n",
    "whoNext = []\n",
    "\n",
    "for i in df.index:\n",
    "    prediction = df['prediction'][i].split(\",\")[:-1]\n",
    "    for i, candidate in enumerate(prediction):\n",
    "        if candidate not in dropOutOrder:\n",
    "            whoNext.append(candidate)\n",
    "            break\n",
    "\n",
    "counts = Counter(whoNext)\n",
    "display(counts)\n",
    "\n",
    "print(counts['hutchinson'] / len(df))\n",
    "print(counts['desantis'] / len(df))\n",
    "print(counts['haley'] / len(df))\n",
    "print(counts['trump'] / len(df))\n",
    "\n",
    "print(\" \")\n",
    "\n",
    "# after Asa dropped\n",
    "dropOutOrder = ['suarez', 'hurd', 'elder','pence','scott', 'burgum', 'christie', 'ramaswamy', 'hutchinson']\n",
    "whoNext = []\n",
    "\n",
    "for i in df.index:\n",
    "    prediction = df['prediction'][i].split(\",\")[:-1]\n",
    "    for i, candidate in enumerate(prediction):\n",
    "        if candidate not in dropOutOrder:\n",
    "            whoNext.append(candidate)\n",
    "            break\n",
    "\n",
    "counts = Counter(whoNext)\n",
    "display(counts)\n",
    "\n",
    "print(counts['desantis'] / len(df))\n",
    "print(counts['haley'] / len(df))\n",
    "print(counts['trump'] / len(df))"
   ]
  },
  {
   "cell_type": "markdown",
   "id": "9dfef753",
   "metadata": {},
   "source": [
    "# How did predictions fare?"
   ]
  },
  {
   "cell_type": "code",
   "execution_count": 10,
   "id": "17eece03",
   "metadata": {},
   "outputs": [
    {
     "name": "stdout",
     "output_type": "stream",
     "text": [
      "24.050632911392405\n"
     ]
    },
    {
     "data": {
      "text/plain": [
       "1    19\n",
       "2    14\n",
       "3    12\n",
       "Name: suarez, dtype: int64"
      ]
     },
     "metadata": {},
     "output_type": "display_data"
    },
    {
     "name": "stdout",
     "output_type": "stream",
     "text": [
      "56.9620253164557\n"
     ]
    }
   ],
   "source": [
    "# Suarez was the first candidate to drop out. 24% of contestants accurately predicted that. \n",
    "print(len(candidatePositions[candidatePositions['suarez'] == 1]) / len(df) * 100)\n",
    "\n",
    "# Although many others thought he would drop out 2nd or 3rd\n",
    "display(candidatePositions['suarez'].value_counts().head(3))\n",
    "\n",
    "# 57% predicted he'd drop out in the first 3\n",
    "print(len(candidatePositions[candidatePositions['suarez'] <= 3]) / len(df) * 100)"
   ]
  },
  {
   "cell_type": "code",
   "execution_count": 5,
   "id": "e2967ccc",
   "metadata": {},
   "outputs": [
    {
     "name": "stdout",
     "output_type": "stream",
     "text": [
      "18.9873417721519\n"
     ]
    },
    {
     "data": {
      "text/plain": [
       "3    19\n",
       "1    17\n",
       "2    15\n",
       "Name: hurd, dtype: int64"
      ]
     },
     "metadata": {},
     "output_type": "display_data"
    },
    {
     "name": "stdout",
     "output_type": "stream",
     "text": [
      "64.55696202531645\n"
     ]
    }
   ],
   "source": [
    "# Hurd was the second candidate to drop out. 19% of contestants accurately predicted that. \n",
    "print(len(candidatePositions[candidatePositions['hurd'] == 2]) / len(df) * 100)\n",
    "\n",
    "# Although many others thought he would drop out first three\n",
    "display(candidatePositions['hurd'].value_counts().head(3))\n",
    "\n",
    "# 64% predicted he'd drop out in the first 3\n",
    "print(len(candidatePositions[candidatePositions['hurd'] <= 3]) / len(df) * 100)"
   ]
  },
  {
   "cell_type": "code",
   "execution_count": 15,
   "id": "25bfae71",
   "metadata": {},
   "outputs": [
    {
     "name": "stdout",
     "output_type": "stream",
     "text": [
      "48.10126582278481\n"
     ]
    }
   ],
   "source": [
    "# 48% predicted he'd drop out 4th, 5th, or 6th\n",
    "print(len(candidatePositions[(candidatePositions['scott'] >= 5) & (candidatePositions['scott'] <= 8)]) / len(df) * 100)"
   ]
  },
  {
   "cell_type": "code",
   "execution_count": 23,
   "id": "efe060de",
   "metadata": {},
   "outputs": [
    {
     "name": "stdout",
     "output_type": "stream",
     "text": [
      "11.538461538461538\n"
     ]
    }
   ],
   "source": [
    "# With Tim Scott departing the race, just six candidates remain: Christie, Ramaswamy, Haley, Pence, DeSantis, and Trump\n",
    "# just 12% of participants accurately predicted these individuals would be the final six candidates still running\n",
    "print(len(candidatePositions[((candidatePositions['christie'] >= 7) & (candidatePositions['ramaswamy'] >= 7) & (candidatePositions['haley'] >= 7) & (candidatePositions['pence'] >= 7) & (candidatePositions['desantis'] >= 7) & (candidatePositions['trump'] >= 7))]) / n * 100)"
   ]
  },
  {
   "cell_type": "code",
   "execution_count": 3,
   "id": "b58195c6",
   "metadata": {},
   "outputs": [
    {
     "name": "stdout",
     "output_type": "stream",
     "text": [
      "34.177215189873415\n",
      "46.835443037974684\n",
      "87.34177215189874\n",
      "97.46835443037975\n"
     ]
    }
   ],
   "source": [
    "# 34% predicted Haley would be in the final 4\n",
    "print(len(candidatePositions[((candidatePositions['haley'] >= 9))]) / n * 100)\n",
    "print(len(candidatePositions[((candidatePositions['pence'] >= 9))]) / n * 100)\n",
    "print(len(candidatePositions[((candidatePositions['desantis'] >= 9))]) / n * 100)\n",
    "print(len(candidatePositions[((candidatePositions['trump'] >= 9))]) / n * 100)"
   ]
  },
  {
   "cell_type": "code",
   "execution_count": 6,
   "id": "cd91b834",
   "metadata": {},
   "outputs": [
    {
     "name": "stdout",
     "output_type": "stream",
     "text": [
      "20.253164556962027\n"
     ]
    }
   ],
   "source": [
    "print(len(candidatePositions[((candidatePositions['haley'] >= 10))]) / n * 100)"
   ]
  }
 ],
 "metadata": {
  "kernelspec": {
   "display_name": "Python 3",
   "language": "python",
   "name": "python3"
  },
  "language_info": {
   "codemirror_mode": {
    "name": "ipython",
    "version": 3
   },
   "file_extension": ".py",
   "mimetype": "text/x-python",
   "name": "python",
   "nbconvert_exporter": "python",
   "pygments_lexer": "ipython3",
   "version": "3.8.8"
  }
 },
 "nbformat": 4,
 "nbformat_minor": 5
}
