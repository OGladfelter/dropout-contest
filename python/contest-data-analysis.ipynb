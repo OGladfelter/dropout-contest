{
 "cells": [
  {
   "cell_type": "code",
   "execution_count": null,
   "id": "c717bac4",
   "metadata": {},
   "outputs": [],
   "source": [
    "# 2020 Democratic Primary Drop Out Predictions Scoring Formulas\n",
    "# Author: Oliver Gladfelter\n",
    "# Date: Aug 22, 2023"
   ]
  },
  {
   "cell_type": "code",
   "execution_count": 1,
   "id": "4f9d3be1",
   "metadata": {},
   "outputs": [],
   "source": [
    "import pandas as pd\n",
    "from collections import Counter\n",
    "import statistics\n",
    "pd.options.mode.chained_assignment = None  # default='warn'\n",
    "\n",
    "df = pd.read_csv(\"../2024/leaderboard/data/submissions2024.csv\")\n",
    "df = df[['leaderboardAlias', 'prediction']]\n",
    "\n",
    "# create a new dataframe with reformatted data, which will help answer some questions\n",
    "long = df.copy()\n",
    "long[[1,2,3,4,5,6,7,8,9,10,11,12,'x']] = long['prediction'].str.split(',',expand=True)\n",
    "long = long.drop(['leaderboardAlias', 'prediction', 'x'], axis=1)\n",
    "\n",
    "# another reformatted dataset\n",
    "# this reformatted data will be necessary for answering certain questions\n",
    "candidatePositions = {}\n",
    "for row in long.index:\n",
    "    for column in long.columns:\n",
    "        if long[column][row] not in candidatePositions:\n",
    "            candidatePositions[long[column][row]] = [int(column)]\n",
    "        elif long[column][row] in candidatePositions:\n",
    "            candidatePositions[long[column][row]].append(int(column))\n",
    "candidatePositions = pd.DataFrame(candidatePositions)\n",
    "\n",
    "# numParticipants\n",
    "n = len(df)"
   ]
  },
  {
   "cell_type": "markdown",
   "id": "e705d2d7",
   "metadata": {},
   "source": [
    "## Calculate 'average' drop out position of each candidate"
   ]
  },
  {
   "cell_type": "code",
   "execution_count": 2,
   "id": "b181082d",
   "metadata": {},
   "outputs": [
    {
     "data": {
      "text/plain": [
       "[{'candidate': 'hurd', 'value': 2.08974358974359},\n",
       " {'candidate': 'elder', 'value': 2.2564102564102564},\n",
       " {'candidate': 'suarez', 'value': 2.730769230769231},\n",
       " {'candidate': 'burgum', 'value': 3.3461538461538463},\n",
       " {'candidate': 'hutchinson', 'value': 3.3846153846153846},\n",
       " {'candidate': 'scott', 'value': 5.987179487179487},\n",
       " {'candidate': 'christie', 'value': 6.256410256410256},\n",
       " {'candidate': 'ramaswamy', 'value': 6.551282051282051},\n",
       " {'candidate': 'haley', 'value': 6.576923076923077},\n",
       " {'candidate': 'pence', 'value': 7.141025641025641},\n",
       " {'candidate': 'desantis', 'value': 9.076923076923077},\n",
       " {'candidate': 'trump', 'value': 10.602564102564102}]"
      ]
     },
     "metadata": {},
     "output_type": "display_data"
    },
    {
     "name": "stdout",
     "output_type": "stream",
     "text": [
      "The 'Wisdom Of The Crowd' predicted drop out order is:\n"
     ]
    },
    {
     "data": {
      "text/plain": [
       "['hurd',\n",
       " 'elder',\n",
       " 'suarez',\n",
       " 'burgum',\n",
       " 'hutchinson',\n",
       " 'scott',\n",
       " 'christie',\n",
       " 'ramaswamy',\n",
       " 'haley',\n",
       " 'pence',\n",
       " 'desantis',\n",
       " 'trump']"
      ]
     },
     "metadata": {},
     "output_type": "display_data"
    }
   ],
   "source": [
    "candidateScores = {}\n",
    "for i in df.index:\n",
    "    prediction = df['prediction'][i].split(\",\")[:-1]\n",
    "    for i, candidate in enumerate(prediction):\n",
    "        if candidate in candidateScores:\n",
    "            candidateScores[candidate] += i\n",
    "        else:\n",
    "            candidateScores[candidate] = i\n",
    "\n",
    "averagePredictions = [{'candidate': key, 'value': candidateScores[key] / len(df)} for key in candidateScores.keys()]\n",
    "averagePredictions.sort(key=lambda x: x['value'])\n",
    "\n",
    "averageOrder = [ap['candidate'] for ap in averagePredictions]\n",
    "\n",
    "display(averagePredictions)\n",
    "print(\"The 'Wisdom Of The Crowd' predicted drop out order is:\")\n",
    "display(averageOrder)"
   ]
  },
  {
   "cell_type": "code",
   "execution_count": 3,
   "id": "2cc50927",
   "metadata": {},
   "outputs": [],
   "source": [
    "# Add average answer to submissions\n",
    "predictionStr = ''\n",
    "for p in averageOrder:\n",
    "    predictionStr += p + ','\n",
    "\n",
    "aggregateRow = {'leaderboardAlias':['Wisdom of the crowd'], 'prediction':[predictionStr]}\n",
    "aggregateRow = pd.DataFrame(aggregateRow)\n",
    "\n",
    "\n",
    "df = df.append(aggregateRow, ignore_index=True)\n",
    "\n",
    "df.to_csv(\"../2024/leaderboard/data/submissions2024.csv\", index=False)"
   ]
  },
  {
   "cell_type": "markdown",
   "id": "c8dee00f",
   "metadata": {},
   "source": [
    "## Who are common picks for predicted first drop? Predicted winner? Etc"
   ]
  },
  {
   "cell_type": "code",
   "execution_count": 4,
   "id": "5c47fa39",
   "metadata": {},
   "outputs": [
    {
     "data": {
      "text/plain": [
       "suarez    24.358974\n",
       "elder     21.794872\n",
       "hurd      20.512821\n",
       "Name: 1, dtype: float64"
      ]
     },
     "metadata": {},
     "output_type": "display_data"
    },
    {
     "data": {
      "text/plain": [
       "elder     23.076923\n",
       "hurd      19.230769\n",
       "suarez    17.948718\n",
       "Name: 2, dtype: float64"
      ]
     },
     "metadata": {},
     "output_type": "display_data"
    },
    {
     "data": {
      "text/plain": [
       "hurd      24.358974\n",
       "elder     15.384615\n",
       "burgum    14.102564\n",
       "Name: 3, dtype: float64"
      ]
     },
     "metadata": {},
     "output_type": "display_data"
    },
    {
     "data": {
      "text/plain": [
       "desantis     41.025641\n",
       "ramaswamy    16.666667\n",
       "trump        12.820513\n",
       "Name: 11, dtype: float64"
      ]
     },
     "metadata": {},
     "output_type": "display_data"
    },
    {
     "data": {
      "text/plain": [
       "trump        82.051282\n",
       "desantis     10.256410\n",
       "ramaswamy     2.564103\n",
       "Name: 12, dtype: float64"
      ]
     },
     "metadata": {},
     "output_type": "display_data"
    }
   ],
   "source": [
    "def perForPosition(dropPosition):\n",
    "    display(long[dropPosition].value_counts().head(3) / n * 100)\n",
    "\n",
    "perForPosition(1) # first drop\n",
    "perForPosition(2) # second drop\n",
    "perForPosition(3) # third drop\n",
    "perForPosition(11) # last drop\n",
    "perForPosition(12) # winner"
   ]
  },
  {
   "cell_type": "markdown",
   "id": "2ffc01e1",
   "metadata": {},
   "source": [
    "## What percent of predictions put Hurd / Elder / Suarez in the first three drops?"
   ]
  },
  {
   "cell_type": "code",
   "execution_count": 5,
   "id": "70f5c695",
   "metadata": {},
   "outputs": [
    {
     "name": "stdout",
     "output_type": "stream",
     "text": [
      "66.66666666666666\n",
      "64.1025641025641\n",
      "60.256410256410255\n",
      "56.41025641025641\n",
      "19.230769230769234\n"
     ]
    }
   ],
   "source": [
    "# predicts hurd or elder or suarez as first drop\n",
    "print(len(long[(long[1] == 'hurd') | (long[1] == 'elder') | (long[1] == 'suarez')]) / n * 100)\n",
    "\n",
    "# predicts various candidates as first three drops\n",
    "print(len(candidatePositions[candidatePositions['hurd'] <= 3]) / n * 100)\n",
    "print(len(candidatePositions[candidatePositions['elder'] <= 3]) / n * 100)\n",
    "print(len(candidatePositions[candidatePositions['suarez'] <= 3]) / n * 100)\n",
    "\n",
    "# how about all 3?\n",
    "print(len(candidatePositions[((candidatePositions['hurd'] <= 3) & (candidatePositions['elder'] <= 3) & (candidatePositions['suarez'] <= 3))]) / n * 100)"
   ]
  },
  {
   "cell_type": "code",
   "execution_count": 8,
   "id": "e277752c",
   "metadata": {},
   "outputs": [
    {
     "name": "stdout",
     "output_type": "stream",
     "text": [
      "% of respondents who think candidate will be one of the first three to drop out\n",
      " \n",
      "ramaswamy: 15.384615384615385\n",
      "hurd: 64.1025641025641\n",
      "hutchinson: 34.61538461538461\n",
      "elder: 60.256410256410255\n",
      "pence: 1.282051282051282\n",
      "christie: 11.538461538461538\n",
      "burgum: 39.743589743589745\n",
      "scott: 11.538461538461538\n",
      "haley: 3.8461538461538463\n",
      "suarez: 56.41025641025641\n",
      "trump: 1.282051282051282\n",
      "desantis: 0.0\n"
     ]
    }
   ],
   "source": [
    "print(\"% of respondents who think candidate will be one of the first three to drop out\")\n",
    "print(\" \")\n",
    "\n",
    "for candidate in candidatePositions.columns:\n",
    "    print(candidate + \": \" + str(len(candidatePositions[candidatePositions[candidate] <= 3]) / n * 100))"
   ]
  },
  {
   "cell_type": "markdown",
   "id": "7b7bfdfb",
   "metadata": {},
   "source": [
    "## Where do we see the most/least disagreement over candidates?"
   ]
  },
  {
   "cell_type": "code",
   "execution_count": 9,
   "id": "d277ee39",
   "metadata": {},
   "outputs": [
    {
     "data": {
      "text/html": [
       "<div>\n",
       "<style scoped>\n",
       "    .dataframe tbody tr th:only-of-type {\n",
       "        vertical-align: middle;\n",
       "    }\n",
       "\n",
       "    .dataframe tbody tr th {\n",
       "        vertical-align: top;\n",
       "    }\n",
       "\n",
       "    .dataframe thead th {\n",
       "        text-align: right;\n",
       "    }\n",
       "</style>\n",
       "<table border=\"1\" class=\"dataframe\">\n",
       "  <thead>\n",
       "    <tr style=\"text-align: right;\">\n",
       "      <th></th>\n",
       "      <th>candidate</th>\n",
       "      <th>stdv</th>\n",
       "    </tr>\n",
       "  </thead>\n",
       "  <tbody>\n",
       "    <tr>\n",
       "      <th>10</th>\n",
       "      <td>trump</td>\n",
       "      <td>1.453520</td>\n",
       "    </tr>\n",
       "    <tr>\n",
       "      <th>11</th>\n",
       "      <td>desantis</td>\n",
       "      <td>1.649630</td>\n",
       "    </tr>\n",
       "    <tr>\n",
       "      <th>1</th>\n",
       "      <td>hurd</td>\n",
       "      <td>1.668547</td>\n",
       "    </tr>\n",
       "    <tr>\n",
       "      <th>4</th>\n",
       "      <td>pence</td>\n",
       "      <td>1.877580</td>\n",
       "    </tr>\n",
       "    <tr>\n",
       "      <th>2</th>\n",
       "      <td>hutchinson</td>\n",
       "      <td>2.007976</td>\n",
       "    </tr>\n",
       "    <tr>\n",
       "      <th>3</th>\n",
       "      <td>elder</td>\n",
       "      <td>2.079185</td>\n",
       "    </tr>\n",
       "    <tr>\n",
       "      <th>8</th>\n",
       "      <td>haley</td>\n",
       "      <td>2.147298</td>\n",
       "    </tr>\n",
       "    <tr>\n",
       "      <th>6</th>\n",
       "      <td>burgum</td>\n",
       "      <td>2.416539</td>\n",
       "    </tr>\n",
       "    <tr>\n",
       "      <th>7</th>\n",
       "      <td>scott</td>\n",
       "      <td>2.601167</td>\n",
       "    </tr>\n",
       "    <tr>\n",
       "      <th>5</th>\n",
       "      <td>christie</td>\n",
       "      <td>2.615816</td>\n",
       "    </tr>\n",
       "    <tr>\n",
       "      <th>9</th>\n",
       "      <td>suarez</td>\n",
       "      <td>2.621951</td>\n",
       "    </tr>\n",
       "    <tr>\n",
       "      <th>0</th>\n",
       "      <td>ramaswamy</td>\n",
       "      <td>3.131936</td>\n",
       "    </tr>\n",
       "  </tbody>\n",
       "</table>\n",
       "</div>"
      ],
      "text/plain": [
       "     candidate      stdv\n",
       "10       trump  1.453520\n",
       "11    desantis  1.649630\n",
       "1         hurd  1.668547\n",
       "4        pence  1.877580\n",
       "2   hutchinson  2.007976\n",
       "3        elder  2.079185\n",
       "8        haley  2.147298\n",
       "6       burgum  2.416539\n",
       "7        scott  2.601167\n",
       "5     christie  2.615816\n",
       "9       suarez  2.621951\n",
       "0    ramaswamy  3.131936"
      ]
     },
     "metadata": {},
     "output_type": "display_data"
    }
   ],
   "source": [
    "stdvs = []\n",
    "for candidate in candidatePositions.columns:\n",
    "    stdvs.append(statistics.stdev(candidatePositions[candidate]))\n",
    "    \n",
    "stdvs = pd.DataFrame({'candidate':candidatePositions.columns, 'stdv':stdvs})\n",
    "\n",
    "# most agreement over Trump (going far), most disagreement on Ramaswamy (he's been positioned all over the place)\n",
    "display(stdvs.sort_values('stdv'))"
   ]
  },
  {
   "cell_type": "markdown",
   "id": "9dfef753",
   "metadata": {},
   "source": [
    "# How did predictions fare?\n",
    "### Hypothetical scenarios for now"
   ]
  },
  {
   "cell_type": "code",
   "execution_count": 21,
   "id": "17eece03",
   "metadata": {},
   "outputs": [
    {
     "name": "stdout",
     "output_type": "stream",
     "text": [
      "20.253164556962027\n"
     ]
    },
    {
     "data": {
      "text/plain": [
       "3    19\n",
       "1    16\n",
       "2    15\n",
       "Name: hurd, dtype: int64"
      ]
     },
     "metadata": {},
     "output_type": "display_data"
    }
   ],
   "source": [
    "# Will Hurd was the first candidate to drop out. Just 20% of contestants accurately predicted that. \n",
    "print(len(candidatePositions[candidatePositions['hurd'] == 1]) / len(df) * 100)\n",
    "\n",
    "# Although many others thought he would drop out 2nd or 3rd\n",
    "display(candidatePositions['hurd'].value_counts().head(3))"
   ]
  },
  {
   "cell_type": "code",
   "execution_count": 23,
   "id": "efe060de",
   "metadata": {},
   "outputs": [
    {
     "name": "stdout",
     "output_type": "stream",
     "text": [
      "11.538461538461538\n"
     ]
    }
   ],
   "source": [
    "# With Tim Scott departing the race, just six candidates remain: Christie, Ramaswamy, Haley, Pence, DeSantis, and Trump\n",
    "# just 12% of participants accurately predicted these individuals would be the final six candidates still running\n",
    "print(len(candidatePositions[((candidatePositions['christie'] >= 7) & (candidatePositions['ramaswamy'] >= 7) & (candidatePositions['haley'] >= 7) & (candidatePositions['pence'] >= 7) & (candidatePositions['desantis'] >= 7) & (candidatePositions['trump'] >= 7))]) / n * 100)"
   ]
  },
  {
   "cell_type": "code",
   "execution_count": 29,
   "id": "b58195c6",
   "metadata": {},
   "outputs": [
    {
     "name": "stdout",
     "output_type": "stream",
     "text": [
      "33.33333333333333\n",
      "46.15384615384615\n",
      "87.17948717948718\n",
      "97.43589743589743\n"
     ]
    }
   ],
   "source": [
    "# 33% predicted Haley would be in the final 4\n",
    "print(len(candidatePositions[((candidatePositions['haley'] >= 9))]) / n * 100)\n",
    "\n",
    "print(len(candidatePositions[((candidatePositions['pence'] >= 9))]) / n * 100)\n",
    "print(len(candidatePositions[((candidatePositions['desantis'] >= 9))]) / n * 100)\n",
    "print(len(candidatePositions[((candidatePositions['trump'] >= 9))]) / n * 100)"
   ]
  }
 ],
 "metadata": {
  "kernelspec": {
   "display_name": "Python 3",
   "language": "python",
   "name": "python3"
  },
  "language_info": {
   "codemirror_mode": {
    "name": "ipython",
    "version": 3
   },
   "file_extension": ".py",
   "mimetype": "text/x-python",
   "name": "python",
   "nbconvert_exporter": "python",
   "pygments_lexer": "ipython3",
   "version": "3.8.8"
  }
 },
 "nbformat": 4,
 "nbformat_minor": 5
}
