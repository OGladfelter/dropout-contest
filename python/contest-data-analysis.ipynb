{
 "cells": [
  {
   "cell_type": "code",
   "execution_count": 1,
   "id": "4f9d3be1",
   "metadata": {},
   "outputs": [],
   "source": [
    "import pandas as pd"
   ]
  },
  {
   "cell_type": "code",
   "execution_count": 2,
   "id": "29069674",
   "metadata": {},
   "outputs": [],
   "source": [
    "df = pd.read_csv(\"submissions-Grid view (1).csv\")"
   ]
  },
  {
   "cell_type": "code",
   "execution_count": 21,
   "id": "f163e2ce",
   "metadata": {},
   "outputs": [],
   "source": [
    "df[['1','2', '3', '4', '5', '6', '7', '8', '9', '10', '11', '12', '13']] = df['prediction'].str.split(',',expand=True)"
   ]
  },
  {
   "cell_type": "code",
   "execution_count": 24,
   "id": "ec35651e",
   "metadata": {},
   "outputs": [
    {
     "data": {
      "text/plain": [
       "trump        18\n",
       "ramaswamy     1\n",
       "scott         1\n",
       "desantis      1\n",
       "Name: 12, dtype: int64"
      ]
     },
     "execution_count": 24,
     "metadata": {},
     "output_type": "execute_result"
    }
   ],
   "source": [
    "df['12'].value_counts()"
   ]
  },
  {
   "cell_type": "code",
   "execution_count": null,
   "id": "b181082d",
   "metadata": {},
   "outputs": [],
   "source": []
  }
 ],
 "metadata": {
  "kernelspec": {
   "display_name": "Python 3",
   "language": "python",
   "name": "python3"
  },
  "language_info": {
   "codemirror_mode": {
    "name": "ipython",
    "version": 3
   },
   "file_extension": ".py",
   "mimetype": "text/x-python",
   "name": "python",
   "nbconvert_exporter": "python",
   "pygments_lexer": "ipython3",
   "version": "3.8.8"
  }
 },
 "nbformat": 4,
 "nbformat_minor": 5
}
