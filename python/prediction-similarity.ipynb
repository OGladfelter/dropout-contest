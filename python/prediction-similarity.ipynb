{
 "cells": [
  {
   "cell_type": "code",
   "execution_count": 99,
   "id": "2f45a08b",
   "metadata": {},
   "outputs": [],
   "source": [
    "import itertools\n",
    "import pandas as pd\n",
    "import statistics\n",
    "\n",
    "pd.options.mode.chained_assignment = None  # default='warn'\n",
    "    \n",
    "def calculateSimilarity(predictionA, predictionB):\n",
    "    listA = predictionA.split(',')[:-1]\n",
    "    listB = predictionB.split(',')[:-1]\n",
    "    distance = 0\n",
    "    combinations = []\n",
    "    for a in listA:\n",
    "        for b in listB:\n",
    "            if a != b:\n",
    "                combinations.append(sorted([a, b]))\n",
    "    pairs = list(set(map(tuple, combinations)))\n",
    "    for x, y in pairs:\n",
    "        a = listA.index(x) - listA.index(y)\n",
    "        b = listB.index(x) - listB.index(y)\n",
    "        if a * b < 0:\n",
    "            distance += 1\n",
    "            \n",
    "    normalizedDistance = distance / ((12 * (12 - 1)) / 2)\n",
    "    \n",
    "    return 100 - (normalizedDistance * 100)"
   ]
  },
  {
   "cell_type": "code",
   "execution_count": 100,
   "id": "9194f18b",
   "metadata": {},
   "outputs": [],
   "source": [
    "df = pd.read_csv(\"../2024/leaderboard/data/submissions2024AllColumns.csv\")\n",
    "df = df[['leaderboardAlias', 'prediction']]"
   ]
  },
  {
   "cell_type": "code",
   "execution_count": 101,
   "id": "2eae221f",
   "metadata": {},
   "outputs": [
    {
     "data": {
      "text/plain": [
       "[{'candidate': 'hurd', 'value': 2.08974358974359},\n",
       " {'candidate': 'elder', 'value': 2.2564102564102564},\n",
       " {'candidate': 'suarez', 'value': 2.730769230769231},\n",
       " {'candidate': 'burgum', 'value': 3.3461538461538463},\n",
       " {'candidate': 'hutchinson', 'value': 3.3846153846153846},\n",
       " {'candidate': 'scott', 'value': 5.987179487179487},\n",
       " {'candidate': 'christie', 'value': 6.256410256410256},\n",
       " {'candidate': 'ramaswamy', 'value': 6.551282051282051},\n",
       " {'candidate': 'haley', 'value': 6.576923076923077},\n",
       " {'candidate': 'pence', 'value': 7.141025641025641},\n",
       " {'candidate': 'desantis', 'value': 9.076923076923077},\n",
       " {'candidate': 'trump', 'value': 10.602564102564102}]"
      ]
     },
     "metadata": {},
     "output_type": "display_data"
    },
    {
     "name": "stdout",
     "output_type": "stream",
     "text": [
      "The 'Wisdom Of The Crowd' predicted drop out order is:\n"
     ]
    },
    {
     "data": {
      "text/plain": [
       "['hurd',\n",
       " 'elder',\n",
       " 'suarez',\n",
       " 'burgum',\n",
       " 'hutchinson',\n",
       " 'scott',\n",
       " 'christie',\n",
       " 'ramaswamy',\n",
       " 'haley',\n",
       " 'pence',\n",
       " 'desantis',\n",
       " 'trump']"
      ]
     },
     "metadata": {},
     "output_type": "display_data"
    }
   ],
   "source": [
    "## Calculate 'average' drop out position of each candidate\n",
    "candidateScores = {}\n",
    "for i in df.index:\n",
    "    prediction = df['prediction'][i].split(\",\")[:-1]\n",
    "    for i, candidate in enumerate(prediction):\n",
    "        if candidate in candidateScores:\n",
    "            candidateScores[candidate] += i\n",
    "        else:\n",
    "            candidateScores[candidate] = i\n",
    "\n",
    "averagePredictions = [{'candidate': key, 'value': candidateScores[key] / len(df)} for key in candidateScores.keys()]\n",
    "averagePredictions.sort(key=lambda x: x['value'])\n",
    "\n",
    "averageOrder = [ap['candidate'] for ap in averagePredictions]\n",
    "\n",
    "display(averagePredictions)\n",
    "print(\"The 'Wisdom Of The Crowd' predicted drop out order is:\")\n",
    "display(averageOrder)\n",
    "\n",
    "# Add average answer to submissions\n",
    "predictionStr = ''\n",
    "for p in averageOrder:\n",
    "    predictionStr += p + ','\n",
    "aggregateRow = {'leaderboardAlias':['Wisdom of the crowd'], 'prediction':[predictionStr]}\n",
    "aggregateRow = pd.DataFrame(aggregateRow)\n",
    "df = df.append(aggregateRow, ignore_index=True)"
   ]
  },
  {
   "cell_type": "code",
   "execution_count": 103,
   "id": "efcd7673",
   "metadata": {},
   "outputs": [
    {
     "data": {
      "text/html": [
       "<div>\n",
       "<style scoped>\n",
       "    .dataframe tbody tr th:only-of-type {\n",
       "        vertical-align: middle;\n",
       "    }\n",
       "\n",
       "    .dataframe tbody tr th {\n",
       "        vertical-align: top;\n",
       "    }\n",
       "\n",
       "    .dataframe thead th {\n",
       "        text-align: right;\n",
       "    }\n",
       "</style>\n",
       "<table border=\"1\" class=\"dataframe\">\n",
       "  <thead>\n",
       "    <tr style=\"text-align: right;\">\n",
       "      <th></th>\n",
       "      <th>player1</th>\n",
       "      <th>player2</th>\n",
       "      <th>similarity</th>\n",
       "    </tr>\n",
       "  </thead>\n",
       "  <tbody>\n",
       "    <tr>\n",
       "      <th>0</th>\n",
       "      <td>Amelia Mac</td>\n",
       "      <td>Katie R</td>\n",
       "      <td>63.636364</td>\n",
       "    </tr>\n",
       "  </tbody>\n",
       "</table>\n",
       "</div>"
      ],
      "text/plain": [
       "      player1  player2  similarity\n",
       "0  Amelia Mac  Katie R   63.636364"
      ]
     },
     "metadata": {},
     "output_type": "display_data"
    }
   ],
   "source": [
    "player1 = []\n",
    "player2 = []\n",
    "similarity = []\n",
    "\n",
    "for i1 in df.index:\n",
    "    # for loop starts with num to avoid finding intersections for characters we've already covered \n",
    "    for i2 in df.index:\n",
    "        if i1 != i2:\n",
    "            player1.append(df['leaderboardAlias'][i1])\n",
    "            player2.append(df['leaderboardAlias'][i2])\n",
    "            similarity.append(calculateSimilarity(df['prediction'][i1], df['prediction'][i2]))\n",
    "            \n",
    "assert(len(player1) == len(player2) == len(similarity))\n",
    "\n",
    "pairs = pd.DataFrame({'player1':player1,'player2':player2,'similarity':similarity})\n",
    "\n",
    "display(pairs.head(1))"
   ]
  },
  {
   "cell_type": "code",
   "execution_count": 104,
   "id": "05e65718",
   "metadata": {},
   "outputs": [
    {
     "name": "stdout",
     "output_type": "stream",
     "text": [
      "(79, 80)\n"
     ]
    }
   ],
   "source": [
    "# convert into proper matrix\n",
    "matrix = pairs.pivot_table(columns='player2', index='player1', values='similarity').reset_index()\n",
    "matrix = matrix.fillna(100)\n",
    "\n",
    "# check network shape\n",
    "print(matrix.shape)\n",
    "\n",
    "# save player name column, then drop it from matrix since it's non-numeric and can't go into TSN-E algorithm\n",
    "player_coordinates = matrix[['player1']]\n",
    "matrix = matrix.drop(['player1'], axis=1)"
   ]
  },
  {
   "cell_type": "code",
   "execution_count": 105,
   "id": "a290b555",
   "metadata": {},
   "outputs": [
    {
     "data": {
      "text/html": [
       "<div>\n",
       "<style scoped>\n",
       "    .dataframe tbody tr th:only-of-type {\n",
       "        vertical-align: middle;\n",
       "    }\n",
       "\n",
       "    .dataframe tbody tr th {\n",
       "        vertical-align: top;\n",
       "    }\n",
       "\n",
       "    .dataframe thead th {\n",
       "        text-align: right;\n",
       "    }\n",
       "</style>\n",
       "<table border=\"1\" class=\"dataframe\">\n",
       "  <thead>\n",
       "    <tr style=\"text-align: right;\">\n",
       "      <th>player2</th>\n",
       "      <th>player1</th>\n",
       "      <th>x</th>\n",
       "      <th>y</th>\n",
       "    </tr>\n",
       "  </thead>\n",
       "  <tbody>\n",
       "    <tr>\n",
       "      <th>0</th>\n",
       "      <td>A P</td>\n",
       "      <td>-0.101685</td>\n",
       "      <td>6.451231</td>\n",
       "    </tr>\n",
       "  </tbody>\n",
       "</table>\n",
       "</div>"
      ],
      "text/plain": [
       "player2 player1         x         y\n",
       "0           A P -0.101685  6.451231"
      ]
     },
     "metadata": {},
     "output_type": "display_data"
    },
    {
     "data": {
      "image/png": "[encoded data removed]",
      "text/plain": [
       "<Figure size 432x288 with 1 Axes>"
      ]
     },
     "metadata": {
      "needs_background": "light"
     },
     "output_type": "display_data"
    }
   ],
   "source": [
    "# TSNE stuff\n",
    "from sklearn.manifold import TSNE\n",
    "m = TSNE(learning_rate=50)\n",
    "\n",
    "tsne_features = m.fit_transform(matrix)\n",
    "\n",
    "# sanity check: each character should have one set of tsne_features values\n",
    "assert(len(tsne_features) == len(matrix))\n",
    "\n",
    "# for each character, apply their (x,y) coordinates\n",
    "player_coordinates['x'] = tsne_features[:,0]\n",
    "player_coordinates['y'] = tsne_features[:,1]\n",
    "\n",
    "# looks like this\n",
    "display(player_coordinates.head(1))\n",
    "\n",
    "import seaborn as sns\n",
    "import matplotlib.pyplot as plt\n",
    "sns.scatterplot(x=\"x\", y=\"y\", data=player_coordinates)\n",
    "plt.show()"
   ]
  },
  {
   "cell_type": "code",
   "execution_count": 114,
   "id": "599d4946",
   "metadata": {},
   "outputs": [],
   "source": [
    "# save coordinates\n",
    "player_coordinates.to_csv(\"../2024/leaderboard/data/tsne.csv\", index=False)"
   ]
  }
 ],
 "metadata": {
  "kernelspec": {
   "display_name": "Python 3",
   "language": "python",
   "name": "python3"
  },
  "language_info": {
   "codemirror_mode": {
    "name": "ipython",
    "version": 3
   },
   "file_extension": ".py",
   "mimetype": "text/x-python",
   "name": "python",
   "nbconvert_exporter": "python",
   "pygments_lexer": "ipython3",
   "version": "3.8.8"
  }
 },
 "nbformat": 4,
 "nbformat_minor": 5
}
