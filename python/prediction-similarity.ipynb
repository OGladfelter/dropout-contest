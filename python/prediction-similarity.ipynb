{
 "cells": [
  {
   "cell_type": "code",
   "execution_count": 10,
   "id": "de5d016e",
   "metadata": {},
   "outputs": [],
   "source": [
    "import itertools\n",
    "import pandas as pd\n",
    "import statistics\n",
    "\n",
    "pd.options.mode.chained_assignment = None  # default='warn'\n",
    "    \n",
    "def calculateSimilarity(predictionA, predictionB):\n",
    "    listA = predictionA.split(',')[:-1]\n",
    "    listB = predictionB.split(',')[:-1]\n",
    "    distance = 0\n",
    "    combinations = []\n",
    "    for a in listA:\n",
    "        for b in listB:\n",
    "            if a != b:\n",
    "                combinations.append(sorted([a, b]))\n",
    "    pairs = list(set(map(tuple, combinations)))\n",
    "    for x, y in pairs:\n",
    "        a = listA.index(x) - listA.index(y)\n",
    "        b = listB.index(x) - listB.index(y)\n",
    "        if a * b < 0:\n",
    "            distance += 1\n",
    "            \n",
    "    normalizedDistance = distance / ((12 * (12 - 1)) / 2)\n",
    "    \n",
    "    return 100 - (normalizedDistance * 100)"
   ]
  },
  {
   "cell_type": "code",
   "execution_count": 2,
   "id": "cd5de8fa",
   "metadata": {},
   "outputs": [],
   "source": [
    "df = pd.read_csv(\"../2024/leaderboard/data/submissions2024AllColumns.csv\")\n",
    "df = df[['leaderboardAlias', 'prediction']]"
   ]
  },
  {
   "cell_type": "code",
   "execution_count": 44,
   "id": "aa615752",
   "metadata": {},
   "outputs": [],
   "source": [
    "player1 = []\n",
    "player2 = []\n",
    "similarity = []\n",
    "\n",
    "for i1 in df.index:\n",
    "    # for loop starts with num to avoid finding intersections for characters we've already covered \n",
    "    for i2 in df.index:\n",
    "        if i1 != i2:\n",
    "            player1.append(df['leaderboardAlias'][i1])\n",
    "            player2.append(df['leaderboardAlias'][i2])\n",
    "            similarity.append(calculateSimilarity(df['prediction'][i1], df['prediction'][i2]))\n",
    "            \n",
    "assert(len(player1) == len(player2) == len(similarity))\n",
    "\n",
    "pairs = pd.DataFrame({'player1':player1,'player2':player2,'similarity':similarity})\n",
    "\n",
    "display(pairs.head(1))"
   ]
  },
  {
   "cell_type": "code",
   "execution_count": 58,
   "id": "a461030e",
   "metadata": {},
   "outputs": [
    {
     "name": "stdout",
     "output_type": "stream",
     "text": [
      "(78, 79)\n"
     ]
    }
   ],
   "source": [
    "# convert into proper matrix\n",
    "matrix = pairs.pivot_table(columns='player2', index='player1', values='similarity').reset_index()\n",
    "matrix = matrix.fillna(100)\n",
    "\n",
    "# check network shape\n",
    "print(matrix.shape)\n",
    "\n",
    "# save player name column, then drop it from matrix since it's non-numeric and can't go into TSN-E algorithm\n",
    "player_coordinates = matrix[['player1']]\n",
    "matrix = matrix.drop(['player1'], axis=1)"
   ]
  },
  {
   "cell_type": "code",
   "execution_count": 65,
   "id": "939d1251",
   "metadata": {},
   "outputs": [],
   "source": [
    "# TSNE stuff\n",
    "from sklearn.manifold import TSNE\n",
    "m = TSNE(learning_rate=50)\n",
    "\n",
    "tsne_features = m.fit_transform(matrix)\n",
    "\n",
    "# sanity check: each character should have one set of tsne_features values\n",
    "assert(len(tsne_features) == len(matrix))\n",
    "\n",
    "# for each character, apply their (x,y) coordinates\n",
    "player_coordinates['x'] = tsne_features[:,0]\n",
    "player_coordinates['y'] = tsne_features[:,1]\n",
    "\n",
    "# looks like this\n",
    "display(player_coordinates.head(1))\n",
    "\n",
    "import seaborn as sns\n",
    "import matplotlib.pyplot as plt\n",
    "sns.scatterplot(x=\"x\", y=\"y\", data=player_coordinates)\n",
    "plt.show()"
   ]
  },
  {
   "cell_type": "code",
   "execution_count": 74,
   "id": "1227cc14",
   "metadata": {},
   "outputs": [],
   "source": [
    "# save coordinates\n",
    "player_coordinates.to_csv(\"../2024/leaderboard/data/tsne.csv\", index=False)"
   ]
  }
 ],
 "metadata": {
  "kernelspec": {
   "display_name": "Python 3",
   "language": "python",
   "name": "python3"
  },
  "language_info": {
   "codemirror_mode": {
    "name": "ipython",
    "version": 3
   },
   "file_extension": ".py",
   "mimetype": "text/x-python",
   "name": "python",
   "nbconvert_exporter": "python",
   "pygments_lexer": "ipython3",
   "version": "3.8.8"
  }
 },
 "nbformat": 4,
 "nbformat_minor": 5
}
